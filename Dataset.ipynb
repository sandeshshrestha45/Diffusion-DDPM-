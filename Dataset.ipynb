{
 "cells": [
  {
   "cell_type": "markdown",
   "id": "2b9d75d5-f4bd-4a01-b88a-43c8e5b8e087",
   "metadata": {},
   "source": [
    "The original Kaggle dataset: https://www.kaggle.com/datasets/jessicali9530/stanford-cars-dataset?datasetId=30084&sortBy=dateCreated&select=cars_test<br>\n",
    "The devkit: car_devkit.tgz https://github.com/pytorch/vision/files/11644847/car_devkit.tgz<br>\n",
    "The cars_test_annos_withlabels.mat file: https://www.kaggle.com/code/subhangaupadhaya/pytorch-stanfordcars-classification/input?select=cars_test_annos_withlabels+%281%29.mat<br>\n",
    "The directory structure you provided earlier works well once we add the missing file! <br><br>\n",
    "\n",
    "└── stanford_cars<br>\n",
    "    &ensp;└── cars_test_annos_withlabels.mat<br>\n",
    "    &ensp;└── cars_train<br>\n",
    "        &ensp; &ensp;└── *.jpg<br>\n",
    "    &ensp;└── cars_test<br>\n",
    "        &ensp; &ensp;└── .*jpg<br>\n",
    "    &ensp;└── devkit<br>\n",
    "        &ensp; &ensp;├── cars_meta.mat<br>\n",
    "        &ensp; &ensp;├── cars_test_annos.mat<br>\n",
    "        &ensp; &ensp;├── cars_train_annos.mat<br>\n",
    "        &ensp; &ensp;├── eval_train.m<br>\n",
    "        &ensp; &ensp;├── README.txt<br>\n",
    "        &ensp; &ensp;└── train_perfect_preds.txt<br><br>\n",
    "If the script/notebook we're writing the code in is at the same directory level as the stanford_cars/ folder, we can write:<br>\n",
    "\n",
    "<code>data = torchvision.datasets.StanfordCars(root=\"./\", download=True)</code>"
   ]
  },
  {
   "cell_type": "code",
   "execution_count": null,
   "id": "c30a783d-5534-412d-8d48-c2968d579629",
   "metadata": {},
   "outputs": [],
   "source": []
  }
 ],
 "metadata": {
  "kernelspec": {
   "display_name": "forklift",
   "language": "python",
   "name": "forklift"
  },
  "language_info": {
   "codemirror_mode": {
    "name": "ipython",
    "version": 3
   },
   "file_extension": ".py",
   "mimetype": "text/x-python",
   "name": "python",
   "nbconvert_exporter": "python",
   "pygments_lexer": "ipython3",
   "version": "3.9.19"
  }
 },
 "nbformat": 4,
 "nbformat_minor": 5
}
